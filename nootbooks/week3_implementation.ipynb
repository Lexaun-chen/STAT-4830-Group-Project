{
  "nbformat": 4,
  "nbformat_minor": 0,
  "metadata": {
    "colab": {
      "provenance": [],
      "authorship_tag": "ABX9TyNU+Z7ux5TFtu5cZ4DdQPpi",
      "include_colab_link": true
    },
    "kernelspec": {
      "name": "python3",
      "display_name": "Python 3"
    },
    "language_info": {
      "name": "python"
    }
  },
  "cells": [
    {
      "cell_type": "markdown",
      "metadata": {
        "id": "view-in-github",
        "colab_type": "text"
      },
      "source": [
        "<a href=\"https://colab.research.google.com/github/Lexaun-chen/STAT-4830-Group-Project/blob/main/nootbooks/week3_implementation.ipynb\" target=\"_parent\"><img src=\"https://colab.research.google.com/assets/colab-badge.svg\" alt=\"Open In Colab\"/></a>"
      ]
    },
    {
      "cell_type": "markdown",
      "source": [
        "# Basic Classes"
      ],
      "metadata": {
        "id": "-oso_dzoitYh"
      }
    },
    {
      "cell_type": "code",
      "execution_count": null,
      "metadata": {
        "id": "50MGtJmTy_Bl"
      },
      "outputs": [],
      "source": [
        "class DiagonalLinear(nn.Module):\n",
        "    def __init__(self, size):\n",
        "        super(DiagonalLinear, self).__init__()\n",
        "        self.size = size\n",
        "        self.diag = nn.Parameter(torch.ones(size))  # Initialize diagonal entries as ones\n",
        "    def forward(self, x):\n",
        "        # Construct diagonal matrix\n",
        "        diag_matrix = torch.diag(self.diag)\n",
        "        return x @ diag_matrix\n",
        "\n",
        "\n",
        "class MNL(nn.Module):\n",
        "    def __init__(self, OptSize):\n",
        "        super().__init__()\n",
        "        self.input_linear = DiagonalLinear(OptSize)\n",
        "\n",
        "    def forward(self, e):\n",
        "        mask = e == 1\n",
        "        e = self.input_linear(e)\n",
        "        masked_e = torch.where(mask == 1, e, float('-inf'))\n",
        "        masked_softmax_e = F.softmax(masked_e, dim=-1)\n",
        "        return masked_softmax_e, e"
      ]
    },
    {
      "cell_type": "markdown",
      "source": [
        "# Application Instance"
      ],
      "metadata": {
        "id": "KLFXL9FXi9u2"
      }
    }
  ]
}