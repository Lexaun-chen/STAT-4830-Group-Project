{
  "nbformat": 4,
  "nbformat_minor": 0,
  "metadata": {
    "colab": {
      "provenance": []
    },
    "kernelspec": {
      "name": "python3",
      "display_name": "Python 3"
    },
    "language_info": {
      "name": "python"
    }
  },
  "cells": [
    {
      "cell_type": "code",
      "execution_count": 38,
      "metadata": {
        "id": "12VofpZ4bpoS"
      },
      "outputs": [],
      "source": [
        "import pandas as pd\n",
        "import numpy as np\n",
        "import torch\n",
        "import torch.optim as optim\n",
        "import torch.nn.functional as F\n",
        "import matplotlib.pyplot as plt\n",
        "import torch.nn as nn\n"
      ]
    },
    {
      "cell_type": "code",
      "source": [
        "if torch.cuda.is_available():\n",
        "    device = torch.device(\"cuda\")\n",
        "    print(\"GPU available:\", device)\n",
        "    torch.cuda.init()\n",
        "else:\n",
        "    device = torch.device(\"cpu\")\n",
        "    print(\"GPU unavailable: CPU\")"
      ],
      "metadata": {
        "id": "am5bwUDDd3yv",
        "colab": {
          "base_uri": "https://localhost:8080/"
        },
        "outputId": "e138b50c-edf0-496a-a5f9-5942865a0024"
      },
      "execution_count": 39,
      "outputs": [
        {
          "output_type": "stream",
          "name": "stdout",
          "text": [
            "GPU unavailable: CPU\n"
          ]
        }
      ]
    },
    {
      "cell_type": "code",
      "source": [
        "class Sales:\n",
        "    def __init__(self, all_offer_sets, sell_num, mask):\n",
        "        self.offer_set_list = []\n",
        "        self.fw = None\n",
        "        self.N_sales = torch.tensor(np.concatenate(sell_num, axis=1), dtype=torch.float64, device=device)\n",
        "        self.offer_feature = torch.tensor(all_offer_sets, dtype=torch.float64)\n",
        "        self.original_shape = self.offer_feature.shape\n",
        "        self.feature_concat = self.offer_feature.reshape(-1, self.offer_feature.shape[2]).to(device)\n",
        "        self.N = len(all_offer_sets)\n",
        "        self.mask = torch.tensor(mask, dtype=torch.float64, device=device)\n",
        "        self.mask_flat = self.mask.reshape((-1,))\n",
        "        self.masked_feature_concat = self.feature_concat[self.mask_flat == 1]\n",
        "\n",
        "    def calculate_all_choice_prob(self, W):\n",
        "        rule_feature = self.feature_concat\n",
        "        self.fw = self.calculate_choice_prob(rule_feature, W)\n",
        "        return self.fw\n",
        "\n",
        "    def calculate_choice_prob(self, rule_feature, W):\n",
        "        Z = W(rule_feature).reshape(self.original_shape[:2])\n",
        "        masked_Z = Z.masked_fill(self.mask == 0, float('-inf'))\n",
        "        softmax_result = F.softmax(masked_Z, dim=-1).reshape((-1, 1))[self.mask_flat == 1]\n",
        "        return softmax_result"
      ],
      "metadata": {
        "id": "nkv2FwxUbtrF"
      },
      "execution_count": 40,
      "outputs": []
    },
    {
      "cell_type": "code",
      "source": [
        "class Deep_MNL(nn.Module):\n",
        "    def __init__(self, input_dim):\n",
        "        super(Deep_MNL, self).__init__()\n",
        "        self.layer1 = nn.Linear(input_dim, 100, dtype=torch.float64)\n",
        "        self.layer2 = nn.Linear(100, 30, dtype=torch.float64)\n",
        "        self.layer3 = nn.Linear(30, 1, dtype=torch.float64)\n",
        "        # self._initialize_weights()\n",
        "\n",
        "    def _initialize_weights(self):\n",
        "        nn.init.constant_(self.layer1.weight, 0)\n",
        "        nn.init.constant_(self.layer1.bias, 0)\n",
        "        nn.init.constant_(self.layer2.weight, 0)\n",
        "        nn.init.constant_(self.layer2.bias, 0)\n",
        "        nn.init.constant_(self.layer3.weight, 0)\n",
        "        nn.init.constant_(self.layer3.bias, 0)\n",
        "\n",
        "    def forward(self, x):\n",
        "        x = self.layer1(x)\n",
        "        x = torch.relu(x)\n",
        "        x = self.layer2(x)\n",
        "        x = torch.relu(x)\n",
        "        x = self.layer3(x)\n",
        "        return x"
      ],
      "metadata": {
        "id": "8GN5762J8lQ7"
      },
      "execution_count": 41,
      "outputs": []
    },
    {
      "cell_type": "code",
      "source": [
        "class Problem_MNL:\n",
        "    def __init__(self, S, N, M): #Option set, Number of sales, Mask\n",
        "        self.W = None\n",
        "        self.sales = Sales(S, N, M)\n",
        "        # Define and initialize the ruleset\n",
        "        self.feature_num = S.shape[-1]\n",
        "        # Put the feature to the GPU\n",
        "        self.sales.feature_concat = self.sales.feature_concat.to(device)\n",
        "        # Define a consumer list that contain consumer types\n",
        "        self.consumer_list = []\n",
        "        # Define the main problem NLL loss\n",
        "        self.NLL_main = None\n",
        "        # Define the current likelihood convex combination\n",
        "        self.g = None\n",
        "        # Define the current likelihood gradient for support finding\n",
        "        self.NLL_gradient = None\n",
        "        # Define a list to contain all fw choice likelihood\n",
        "        self.fw_list = []\n",
        "        # Define a new sales data for further estimation\n",
        "        self.sales_estimate = None\n",
        "\n",
        "    def loss(self, W):\n",
        "        N = self.sales.N\n",
        "        N_sales = self.sales.N_sales\n",
        "        normalize_term = torch.tensor(1 / N, dtype=torch.float64, device=device)\n",
        "        fw = self.sales.calculate_all_choice_prob(W)\n",
        "        fw_log = torch.log(fw)\n",
        "        return -normalize_term * torch.matmul(N_sales, fw_log)\n",
        "\n",
        "    def optimize_w(self):\n",
        "        encoder = Deep_MNL(14)\n",
        "        loss_previous = 1e10000\n",
        "        optimizer = optim.Adam(encoder.parameters(), lr=5e-6)\n",
        "        optimizer.zero_grad()\n",
        "        NLL_list = []\n",
        "        early_stop_count = 0\n",
        "        epoches = 2000\n",
        "        for epoch in range(epoches):\n",
        "            LOSS = self.loss(encoder)\n",
        "            LOSS.backward()\n",
        "            optimizer.step()\n",
        "            if (epoch + 1) % 10 == 0:\n",
        "                print(f'Epoch [{epoch + 1}/{epoches}], Loss: {LOSS.item():.4f}')\n",
        "            loss_current = LOSS.item()\n",
        "            # if loss_current < loss_previous:\n",
        "            #     loss_previous = loss_current\n",
        "            # else:\n",
        "            #     early_stop_count += 1\n",
        "            #     if early_stop_count > 0:\n",
        "            #         break\n",
        "            NLL_list.append(loss_current)\n",
        "        self.W = encoder\n",
        "        return NLL_list\n",
        "\n",
        "    def estimate(self, S, N, M):\n",
        "        sales_estimate = Sales(S, N, M)\n",
        "        N = sales_estimate.N\n",
        "        N_sales = sales_estimate.N_sales\n",
        "        normalize_term = torch.tensor(1 / N, dtype=torch.float64, device=device)\n",
        "        fw = sales_estimate.calculate_all_choice_prob(self.W)\n",
        "        fw_log = torch.log(fw)\n",
        "        return -normalize_term * torch.matmul(N_sales, fw_log)"
      ],
      "metadata": {
        "id": "TeIkFmbDd1NQ"
      },
      "execution_count": 42,
      "outputs": []
    },
    {
      "cell_type": "code",
      "source": [
        "def get_offer_data(data_para):\n",
        "    offerset_list = []\n",
        "    sell_list = []\n",
        "    mask_list = []\n",
        "    max_num = 33\n",
        "    for srch_id, group in data_para:\n",
        "        num_product = len(group)\n",
        "        offerset = group.drop(columns=['booking_bool', 'srch_id']).values\n",
        "        offer_dummy = np.zeros((max_num - num_product, offerset.shape[1]))\n",
        "        offerset = np.vstack((offerset, offer_dummy)) #Padding Offer Sets\n",
        "        offer_mask = np.append(np.ones(num_product + 1), np.zeros(max_num - num_product - 1)) # Mask for 0 from padding\n",
        "\n",
        "        if group['booking_bool'].sum() == 0: # No hotel reservations\n",
        "            num_sell = np.append(group['booking_bool'].values, 1).reshape(1, -1) # Create and Select \"not buy\" option\n",
        "        else:\n",
        "            num_sell = np.append(group['booking_bool'].values, 0).reshape(1, -1)\n",
        "\n",
        "        offerset_list.append(offerset)\n",
        "        sell_list.append(num_sell)\n",
        "        mask_list.append(offer_mask)\n",
        "\n",
        "    offerset_list = np.array(offerset_list)\n",
        "    mask_list = np.array(mask_list)\n",
        "    return offerset_list, sell_list, mask_list\n",
        "\n",
        "\n",
        "search_info = ['srch_id']\n",
        "feature = ['position', 'prop_starrating',\n",
        "           'prop_location_score1', 'prop_log_historical_price',\n",
        "           'prop_brand_bool', 'promotion_flag', 'srch_booking_window', 'srch_length_of_stay',\n",
        "           'srch_adults_count', 'srch_children_count', 'srch_room_count',\n",
        "           'srch_saturday_night_bool', 'price_usd', 'random_bool', 'booking_bool']\n",
        "\n",
        "tr_data = pd.read_csv('train_28-32_10000.csv')\n",
        "te_data = pd.read_csv('test_28-32_1000.csv')\n",
        "tr_data = tr_data[search_info + feature]\n",
        "te_data = te_data[search_info + feature]\n",
        "tr_offerset_list, tr_sell_list, tr_mask_list = get_offer_data(tr_data.groupby('srch_id'))\n",
        "te_offerset_list, te_sell_list, te_mask_list = get_offer_data(te_data.groupby('srch_id'))"
      ],
      "metadata": {
        "id": "NnSFx7gTfKeb"
      },
      "execution_count": 43,
      "outputs": []
    },
    {
      "cell_type": "code",
      "source": [
        "def train_MNL():\n",
        "    problem = Problem_MNL(tr_offerset_list, tr_sell_list, tr_mask_list)\n",
        "    NLL_list = problem.optimize_w()\n",
        "    return problem, NLL_list\n",
        "\n",
        "\n",
        "MNL_problem, NLL_LIST = train_MNL()\n",
        "plt.figure(figsize=(10, 6))\n",
        "plt.plot(NLL_LIST, marker='o', linestyle='-', color='b', label='MNL')\n",
        "plt.title('NLL LOSS VALUE')\n",
        "plt.xlabel('ITERATION')\n",
        "plt.ylabel('NLL LOSS')\n",
        "plt.legend()\n",
        "plt.grid(True)\n",
        "plt.show()"
      ],
      "metadata": {
        "colab": {
          "base_uri": "https://localhost:8080/"
        },
        "id": "Esnl32bQ9bfT",
        "outputId": "b5937356-a59a-451d-f58a-5bdb49ca9d87"
      },
      "execution_count": null,
      "outputs": [
        {
          "output_type": "stream",
          "name": "stdout",
          "text": [
            "Epoch [10/2000], Loss: 4.9318\n",
            "Epoch [20/2000], Loss: 4.8725\n",
            "Epoch [30/2000], Loss: 4.8077\n",
            "Epoch [40/2000], Loss: 4.7389\n",
            "Epoch [50/2000], Loss: 4.6676\n",
            "Epoch [60/2000], Loss: 4.5952\n",
            "Epoch [70/2000], Loss: 4.5227\n",
            "Epoch [80/2000], Loss: 4.4511\n",
            "Epoch [90/2000], Loss: 4.3807\n",
            "Epoch [100/2000], Loss: 4.3120\n",
            "Epoch [110/2000], Loss: 4.2453\n",
            "Epoch [120/2000], Loss: 4.1808\n",
            "Epoch [130/2000], Loss: 4.1185\n",
            "Epoch [140/2000], Loss: 4.0587\n",
            "Epoch [150/2000], Loss: 4.0015\n"
          ]
        }
      ]
    },
    {
      "cell_type": "code",
      "source": [
        "print('Test Loss: ', MNL_problem.estimate(te_offerset_list, te_sell_list, te_mask_list))\n",
        "print('Train Loss: ', MNL_problem.estimate(tr_offerset_list, tr_sell_list, tr_mask_list))"
      ],
      "metadata": {
        "id": "TnSB-3f09d57"
      },
      "execution_count": null,
      "outputs": []
    }
  ]
}