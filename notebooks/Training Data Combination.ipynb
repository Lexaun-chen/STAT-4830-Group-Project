{
 "cells": [
  {
   "cell_type": "code",
   "id": "initial_id",
   "metadata": {
    "collapsed": true
   },
   "source": [
    "import numpy as np\n",
    "import pandas as pd\n",
    "import matplotlib.pyplot as plt\n",
    "import torch"
   ],
   "outputs": [],
   "execution_count": null
  },
  {
   "metadata": {
    "ExecuteTime": {
     "end_time": "2025-03-06T16:12:33.695436Z",
     "start_time": "2025-03-06T16:12:33.692780Z"
    }
   },
   "cell_type": "code",
   "source": [
    "column_names = data.columns.tolist()\n",
    "print(column_names)"
   ],
   "id": "dfb540bf0fe41c97",
   "outputs": [
    {
     "name": "stdout",
     "output_type": "stream",
     "text": [
      "['srch_id', 'date_time', 'site_id', 'visitor_location_country_id', 'visitor_hist_starrating', 'visitor_hist_adr_usd', 'prop_country_id', 'prop_id', 'prop_starrating', 'prop_review_score', 'prop_brand_bool', 'prop_location_score1', 'prop_location_score2', 'prop_log_historical_price', 'position', 'price_usd', 'promotion_flag', 'srch_destination_id', 'srch_length_of_stay', 'srch_booking_window', 'srch_adults_count', 'srch_children_count', 'srch_room_count', 'srch_saturday_night_bool', 'srch_query_affinity_score', 'orig_destination_distance', 'random_bool', 'comp1_rate', 'comp1_inv', 'comp1_rate_percent_diff', 'comp2_rate', 'comp2_inv', 'comp2_rate_percent_diff', 'comp3_rate', 'comp3_inv', 'comp3_rate_percent_diff', 'comp4_rate', 'comp4_inv', 'comp4_rate_percent_diff', 'comp5_rate', 'comp5_inv', 'comp5_rate_percent_diff', 'comp6_rate', 'comp6_inv', 'comp6_rate_percent_diff', 'comp7_rate', 'comp7_inv', 'comp7_rate_percent_diff', 'comp8_rate', 'comp8_inv', 'comp8_rate_percent_diff', 'click_bool', 'gross_bookings_usd', 'booking_bool']\n"
     ]
    }
   ],
   "execution_count": 26
  },
  {
   "metadata": {},
   "cell_type": "code",
   "source": [
    "# df = data[data['random_bool'] == 1]\n",
    "#\n",
    "# search_info = ['srch_id', 'date_time']\n",
    "# feature_product = ['position', 'prop_starrating',\n",
    "#                    'prop_location_score1', 'prop_log_historical_price', 'prop_brand_bool',\n",
    "#                    'promotion_flag', 'price_usd', 'random_bool', 'booking_bool']\n",
    "#\n",
    "# feature_consumer = ['srch_booking_window', 'srch_length_of_stay', 'srch_adults_count',\n",
    "#                     'srch_children_count', 'srch_room_count', 'srch_saturday_night_bool']\n",
    "#\n",
    "# feature = feature_product + feature_consumer\n",
    "# df = df[search_info + feature]\n",
    "# df['date_time'] = pd.to_datetime(df['date_time'])\n",
    "#\n",
    "# # Count occurrences of each srch_id\n",
    "# srch_id_counts = df[\"srch_id\"].value_counts()\n",
    "#\n",
    "# # Print the count of each srch_id\n",
    "# print(srch_id_counts)\n",
    "#\n",
    "# # Filter and display only srch_id values that appear more than once\n",
    "# duplicates = srch_id_counts[srch_id_counts >= 5]\n",
    "# print(\"\\n\", duplicates)  # Show only srch_id values that occur multiple times\n",
    "#\n",
    "# # Keep only rows where srch_id appears more than once\n",
    "# filtered_data = df[df[\"srch_id\"].isin(duplicates.index)]\n",
    "#\n",
    "# # Display the filtered data\n",
    "# print(filtered_data.head())"
   ],
   "id": "f9850b8f0108e757",
   "outputs": [],
   "execution_count": null
  },
  {
   "metadata": {},
   "cell_type": "code",
   "source": [
    "# # Compute group size within each srch_id\n",
    "# filtered_data[\"group_size\"] = filtered_data.groupby(\"srch_id\")[\"srch_id\"].transform(\"count\")\n",
    "#\n",
    "# # Compute the total number of bookings and clicks per srch_id\n",
    "# group_booking_counts = filtered_data.groupby(\"srch_id\")[\"booking_bool\"].sum()  # Count of bookings\n",
    "# group_total_counts = filtered_data.groupby(\"srch_id\")[\"booking_bool\"].count()  # Count of all interactions\n",
    "#\n",
    "# # Compute dynamic weights based on booking frequency\n",
    "# booking_weight_map = (group_total_counts / group_booking_counts).fillna(1).to_dict()  # If no bookings, set weight = 1\n",
    "#\n",
    "# # Map weights back to the dataframe\n",
    "# filtered_data[\"booking_weight\"] = filtered_data[\"srch_id\"].map(booking_weight_map)\n",
    "# filtered_data[\"click_weight\"] = 1  # Click weight remains 1\n",
    "#\n",
    "# # Use vectorized operation instead of apply()\n",
    "# filtered_data[\"weight\"] = filtered_data[\"booking_weight\"].where(filtered_data[\"booking_bool\"] == 1, filtered_data[\"click_weight\"])\n",
    "#\n",
    "# # Compute base probability (1 / group_size)\n",
    "# filtered_data[\"base_prob\"] = 1 / filtered_data[\"group_size\"]\n",
    "#\n",
    "# # Compute weighted probability\n",
    "# filtered_data[\"weighted_prob\"] = filtered_data[\"base_prob\"] * filtered_data[\"weight\"]\n",
    "#\n",
    "# # Normalize probabilities within each srch_id\n",
    "# filtered_data[\"orig_prob\"] = filtered_data.groupby(\"srch_id\")[\"weighted_prob\"].transform(lambda x: x / x.sum())\n",
    "#\n",
    "# # Drop intermediate columns if not needed\n",
    "# filtered_data = filtered_data.drop(columns=[\"group_size\", \"booking_weight\", \"click_weight\", \"base_prob\", \"weight\", \"weighted_prob\"])\n"
   ],
   "id": "4c1d00698aff67e5",
   "outputs": [],
   "execution_count": null
  },
  {
   "metadata": {
    "ExecuteTime": {
     "end_time": "2025-03-06T16:15:36.471355Z",
     "start_time": "2025-03-06T16:15:31.821460Z"
    }
   },
   "cell_type": "code",
   "source": [
    "# Convert DataFrame to PyTorch tensors\n",
    "data_tensor = torch.tensor(data.drop(columns=[\"date_time\"]).values, dtype=torch.float32)\n",
    "random_bool_tensor = torch.tensor(data[\"random_bool\"].values, dtype=torch.bool)\n",
    "srch_id_tensor = torch.tensor(data[\"srch_id\"].values, dtype=torch.long)\n",
    "booking_bool_tensor = torch.tensor(data[\"booking_bool\"].values, dtype=torch.float32)\n",
    "\n",
    "# Move tensors to GPU (if available)\n",
    "device = \"cuda\" if torch.cuda.is_available() else \"cpu\"\n",
    "\n",
    "data_tensor = data_tensor.to(device)\n",
    "random_bool_tensor = random_bool_tensor.to(device)\n",
    "srch_id_tensor = srch_id_tensor.to(device)\n",
    "booking_bool_tensor = booking_bool_tensor.to(device)"
   ],
   "id": "1bb31b127c46fce0",
   "outputs": [],
   "execution_count": 31
  },
  {
   "metadata": {
    "ExecuteTime": {
     "end_time": "2025-03-06T16:15:37.338449Z",
     "start_time": "2025-03-06T16:15:37.179037Z"
    }
   },
   "cell_type": "code",
   "source": [
    "# Step 1: Filter where random_bool == 1\n",
    "mask = random_bool_tensor\n",
    "filtered_tensor = data_tensor[mask]\n",
    "filtered_srch_id = srch_id_tensor[mask]\n",
    "filtered_booking_bool = booking_bool_tensor[mask]\n",
    "\n",
    "# Step 2: Compute srch_id counts (like value_counts in Pandas)\n",
    "unique_ids, inverse_indices, srch_id_counts = torch.unique(filtered_srch_id, return_inverse=True, return_counts=True)\n",
    "\n",
    "# Step 3: Filter srch_id that appear at least 5 times\n",
    "valid_mask = srch_id_counts >= 5\n",
    "valid_srch_ids = unique_ids[valid_mask]"
   ],
   "id": "a1ceab20007b999a",
   "outputs": [],
   "execution_count": 32
  },
  {
   "metadata": {
    "ExecuteTime": {
     "end_time": "2025-03-06T16:16:59.334531Z",
     "start_time": "2025-03-06T16:16:59.024243Z"
    }
   },
   "cell_type": "code",
   "source": [
    "# Step 4: Remap `srch_id_tensor` to zero-based indices\n",
    "srch_id_map = {old_id: new_idx for new_idx, old_id in enumerate(unique_ids.tolist())}\n",
    "mapped_srch_ids = torch.tensor([srch_id_map[i] for i in filtered_srch_id.tolist()], dtype=torch.long, device=device)\n",
    "\n",
    "# Step 5: Compute total bookings per srch_id\n",
    "booking_sums = torch.zeros(len(unique_ids), dtype=torch.float32, device=device)\n",
    "booking_sums.scatter_add_(0, mapped_srch_ids, filtered_booking_bool)\n",
    "\n",
    "# Step 6: Compute total interactions per srch_id (Fix: Ensure GPU compatibility)\n",
    "total_interactions = srch_id_counts.to(device).float()\n",
    "\n",
    "# Step 7: Compute booking weight: total interactions / total bookings\n",
    "booking_weight_tensor = torch.where(\n",
    "    booking_sums > 0,\n",
    "    total_interactions / booking_sums,\n",
    "    torch.tensor(1.0, dtype=torch.float32, device=device)  # Ensure dtype and device match\n",
    ")\n",
    "\n",
    "click_weight_tensor = torch.tensor(1.0, dtype=torch.float32, device=device)  # Ensure consistent type Click weight is always 1"
   ],
   "id": "6b73fb7c86b848a2",
   "outputs": [],
   "execution_count": 34
  },
  {
   "metadata": {
    "ExecuteTime": {
     "end_time": "2025-03-06T16:17:08.128755Z",
     "start_time": "2025-03-06T16:17:05.953342Z"
    }
   },
   "cell_type": "code",
   "source": [
    "# Map weights back to the original data\n",
    "mapped_weights = booking_weight_tensor[mapped_srch_ids]\n",
    "\n",
    "# Step 8: Assign final weights based on booking_bool\n",
    "weight_tensor = torch.where(filtered_booking_bool == 1, mapped_weights, click_weight_tensor)\n",
    "\n",
    "# Step 9: Compute base probability (1 / group_size)\n",
    "group_size_tensor = total_interactions[mapped_srch_ids]  # Map total_interactions using indices\n",
    "base_prob_tensor = 1.0 / group_size_tensor\n",
    "\n",
    "# Step 10: Compute weighted probability\n",
    "weighted_prob_tensor = base_prob_tensor * weight_tensor\n",
    "\n",
    "# Step 11: Normalize probabilities within each srch_id\n",
    "sum_weighted_prob = torch.zeros(len(unique_ids), dtype=torch.float32, device=device)\n",
    "sum_weighted_prob.scatter_add_(0, mapped_srch_ids, weighted_prob_tensor)\n",
    "\n",
    "# Compute final normalized probabilities\n",
    "orig_prob_tensor = weighted_prob_tensor / sum_weighted_prob[mapped_srch_ids]\n",
    "\n",
    "# Convert back to Pandas for compatibility\n",
    "filtered_data = pd.DataFrame(filtered_tensor.cpu().numpy(), columns=data.drop(columns=[\"date_time\"]).columns)\n",
    "filtered_data[\"srch_id\"] = filtered_srch_id.cpu().numpy()\n",
    "filtered_data[\"orig_prob\"] = orig_prob_tensor.cpu().numpy()\n",
    "\n",
    "# Print the filtered DataFrame\n",
    "print(filtered_data.head())\n"
   ],
   "id": "c4bdbf36cdd389d",
   "outputs": [
    {
     "name": "stdout",
     "output_type": "stream",
     "text": [
      "   srch_id  site_id  visitor_location_country_id  visitor_hist_starrating  \\\n",
      "0        1     12.0                        187.0                      NaN   \n",
      "1        1     12.0                        187.0                      NaN   \n",
      "2        1     12.0                        187.0                      NaN   \n",
      "3        1     12.0                        187.0                      NaN   \n",
      "4        1     12.0                        187.0                      NaN   \n",
      "\n",
      "   visitor_hist_adr_usd  prop_country_id  prop_id  prop_starrating  \\\n",
      "0                   NaN            219.0    893.0              3.0   \n",
      "1                   NaN            219.0  10404.0              4.0   \n",
      "2                   NaN            219.0  21315.0              3.0   \n",
      "3                   NaN            219.0  27348.0              2.0   \n",
      "4                   NaN            219.0  29604.0              4.0   \n",
      "\n",
      "   prop_review_score  prop_brand_bool  ...  comp7_rate  comp7_inv  \\\n",
      "0                3.5              1.0  ...         NaN        NaN   \n",
      "1                4.0              1.0  ...         NaN        NaN   \n",
      "2                4.5              1.0  ...         NaN        NaN   \n",
      "3                4.0              1.0  ...         NaN        NaN   \n",
      "4                3.5              1.0  ...         NaN        NaN   \n",
      "\n",
      "   comp7_rate_percent_diff  comp8_rate  comp8_inv  comp8_rate_percent_diff  \\\n",
      "0                      NaN         0.0        0.0                      NaN   \n",
      "1                      NaN         0.0        0.0                      NaN   \n",
      "2                      NaN         0.0        0.0                      NaN   \n",
      "3                      NaN        -1.0        0.0                      5.0   \n",
      "4                      NaN         0.0        0.0                      NaN   \n",
      "\n",
      "   click_bool  gross_bookings_usd  booking_bool  orig_prob  \n",
      "0         0.0                 NaN           0.0   0.018182  \n",
      "1         0.0                 NaN           0.0   0.018182  \n",
      "2         0.0                 NaN           0.0   0.018182  \n",
      "3         0.0                 NaN           0.0   0.018182  \n",
      "4         0.0                 NaN           0.0   0.018182  \n",
      "\n",
      "[5 rows x 54 columns]\n"
     ]
    }
   ],
   "execution_count": 35
  }
 ],
 "metadata": {
  "kernelspec": {
   "display_name": "Python 3",
   "language": "python",
   "name": "python3"
  },
  "language_info": {
   "codemirror_mode": {
    "name": "ipython",
    "version": 2
   },
   "file_extension": ".py",
   "mimetype": "text/x-python",
   "name": "python",
   "nbconvert_exporter": "python",
   "pygments_lexer": "ipython2",
   "version": "2.7.6"
  }
 },
 "nbformat": 4,
 "nbformat_minor": 5
}
